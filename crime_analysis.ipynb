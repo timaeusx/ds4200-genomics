{
 "cells": [
  {
   "cell_type": "markdown",
   "id": "40edc637-edd1-4da8-ab1b-2b0e6a206d90",
   "metadata": {},
   "source": [
    "# Project Code"
   ]
  },
  {
   "cell_type": "code",
   "execution_count": 1,
   "id": "bd33e6a6-5014-4d49-bc76-0a722208192f",
   "metadata": {},
   "outputs": [
    {
     "name": "stderr",
     "output_type": "stream",
     "text": [
      "/var/folders/6n/d1q54vgx5vgdl5y00xwt_9ww0000gn/T/ipykernel_67105/3403468851.py:7: DtypeWarning: Columns (0) have mixed types. Specify dtype option on import or set low_memory=False.\n",
      "  crime = pd.read_csv('Crime_Data_from_2020_to_Present.csv')\n",
      "/var/folders/6n/d1q54vgx5vgdl5y00xwt_9ww0000gn/T/ipykernel_67105/3403468851.py:11: UserWarning: Could not infer format, so each element will be parsed individually, falling back to `dateutil`. To ensure parsing is consistent and as-expected, please specify a format.\n",
      "  crime['Date Rptd'] = pd.to_datetime(crime['Date Rptd'])\n",
      "/var/folders/6n/d1q54vgx5vgdl5y00xwt_9ww0000gn/T/ipykernel_67105/3403468851.py:12: UserWarning: Could not infer format, so each element will be parsed individually, falling back to `dateutil`. To ensure parsing is consistent and as-expected, please specify a format.\n",
      "  crime['DATE OCC'] = pd.to_datetime(crime['DATE OCC'])\n"
     ]
    }
   ],
   "source": [
    "import pandas as pd\n",
    "import numpy as np\n",
    "import seaborn as sns\n",
    "import matplotlib.pyplot as plt\n",
    "\n",
    "# Read in file\n",
    "crime = pd.read_csv('Crime_Data_from_2020_to_Present.csv')\n",
    "\n",
    "# Data cleaning\n",
    "crime = crime[crime['Vict Age'].isin([-2, -1, 120]) == False]\n",
    "crime['Date Rptd'] = pd.to_datetime(crime['Date Rptd'])\n",
    "crime['DATE OCC'] = pd.to_datetime(crime['DATE OCC'])\n"
   ]
  },
  {
   "cell_type": "code",
   "execution_count": 2,
   "id": "41423637-e824-428f-bca9-be172dedd199",
   "metadata": {},
   "outputs": [],
   "source": [
    "import altair as alt\n",
    "# Ensure 'TIME OCC' is a string, remove any decimal parts, and pad with zeros\n",
    "crime['TIME OCC'] = crime['TIME OCC'].astype(str).str.split('.').str[0].str.zfill(4)\n",
    "\n",
    "# Convert to datetime, coercing any errors into NaT\n",
    "crime['Hour'] = pd.to_datetime(crime['TIME OCC'], format='%H%M', errors='coerce').dt.hour\n",
    "\n",
    "# Drop any rows with NaT values resulting from the coercion\n",
    "crime = crime.dropna(subset=['Hour'])\n",
    "\n",
    "# Extract the month from the 'DATE OCC' column\n",
    "crime['Month'] = crime['DATE OCC'].dt.month\n",
    "\n",
    "# Group by Hour and Month and count the number of crimes\n",
    "crime_by_hour_month = crime.groupby(['Hour', 'Month']).size().reset_index(name='Crime Count')\n",
    "\n",
    "# Create a heatmap with Altair\n",
    "heatmap = alt.Chart(crime_by_hour_month).mark_rect().encode(\n",
    "    alt.X('Month:O', title='Month of the Year'),\n",
    "    alt.Y('Hour:O', title='Hour of the Day'),\n",
    "    color='Crime Count:Q',\n",
    "    tooltip=['Month', 'Hour', 'Crime Count']\n",
    ").properties(\n",
    "    title='Crime Frequency by Hour and Month',\n",
    "    width=600,\n",
    "    height=300\n",
    ")\n",
    "\n",
    "# Save the chart to an HTML file (or display it inline if using a Jupyter notebook)\n",
    "heatmap.save('crime_heatmap.html')"
   ]
  },
  {
   "cell_type": "code",
   "execution_count": 4,
   "id": "d50484dd-82a7-44ae-be2a-f37e4f92d943",
   "metadata": {},
   "outputs": [
    {
     "name": "stderr",
     "output_type": "stream",
     "text": [
      "/var/folders/6n/d1q54vgx5vgdl5y00xwt_9ww0000gn/T/ipykernel_67105/2745517129.py:5: DtypeWarning: Columns (0) have mixed types. Specify dtype option on import or set low_memory=False.\n",
      "  crime = pd.read_csv('Crime_Data_from_2020_to_Present.csv')\n",
      "/var/folders/6n/d1q54vgx5vgdl5y00xwt_9ww0000gn/T/ipykernel_67105/2745517129.py:9: UserWarning: Could not infer format, so each element will be parsed individually, falling back to `dateutil`. To ensure parsing is consistent and as-expected, please specify a format.\n",
      "  crime['Date Rptd'] = pd.to_datetime(crime['Date Rptd'])\n",
      "/var/folders/6n/d1q54vgx5vgdl5y00xwt_9ww0000gn/T/ipykernel_67105/2745517129.py:10: UserWarning: Could not infer format, so each element will be parsed individually, falling back to `dateutil`. To ensure parsing is consistent and as-expected, please specify a format.\n",
      "  crime['DATE OCC'] = pd.to_datetime(crime['DATE OCC'])\n"
     ]
    }
   ],
   "source": [
    "import pandas as pd\n",
    "import altair as alt\n",
    "\n",
    "# Load your dataset\n",
    "crime = pd.read_csv('Crime_Data_from_2020_to_Present.csv')\n",
    "\n",
    "# Data cleaning\n",
    "crime = crime[~crime['Vict Age'].isin([-2, -1, 120])]\n",
    "crime['Date Rptd'] = pd.to_datetime(crime['Date Rptd'])\n",
    "crime['DATE OCC'] = pd.to_datetime(crime['DATE OCC'])\n",
    "\n",
    "# Ensure 'TIME OCC' is a string, remove any decimal parts, and pad with zeros\n",
    "crime['TIME OCC'] = crime['TIME OCC'].astype(str).str.split('.').str[0].str.zfill(4)\n",
    "\n",
    "# Convert to datetime, coercing any errors into NaT\n",
    "crime['Hour'] = pd.to_datetime(crime['TIME OCC'], format='%H%M', errors='coerce').dt.hour\n",
    "\n",
    "# Drop any rows with NaT values resulting from the coercion\n",
    "crime = crime.dropna(subset=['Hour'])\n",
    "\n",
    "# Create a 'YearMonth' column formatted as 'YYYY-MM'\n",
    "crime['YearMonth'] = crime['DATE OCC'].dt.strftime('%Y-%m')\n",
    "\n",
    "# Group by Hour and YearMonth and count the number of crimes\n",
    "crime_by_hour_yearmonth = crime.groupby(['Hour', 'YearMonth']).size().reset_index(name='Crime Count')\n",
    "\n",
    "# Sort the data by YearMonth to ensure correct order on x-axis\n",
    "crime_by_hour_yearmonth = crime_by_hour_yearmonth.sort_values('YearMonth')\n",
    "\n",
    "# Create a heatmap with Altair\n",
    "heatmap = alt.Chart(crime_by_hour_yearmonth).mark_rect().encode(\n",
    "    alt.X('YearMonth:O', title='Month of the Year'),\n",
    "    alt.Y('Hour:O', title='Hour of the Day'),\n",
    "    color='Crime Count:Q',\n",
    "    tooltip=['YearMonth', 'Hour', 'Crime Count']\n",
    ").properties(\n",
    "    title='Crime Frequency by Hour and Year-Month',\n",
    "    width=800,  # You might need to increase the width to fit all months\n",
    "    height=300\n",
    ")\n",
    "\n",
    "# Save the chart to an HTML file (or display it inline if using a Jupyter notebook)\n",
    "heatmap.save('crime_heatmap_year_month.html')\n"
   ]
  },
  {
   "cell_type": "code",
   "execution_count": null,
   "id": "d36bdaf0-4f5f-41c7-b275-d0d51e082e1b",
   "metadata": {},
   "outputs": [],
   "source": []
  }
 ],
 "metadata": {
  "kernelspec": {
   "display_name": "Python 3 (ipykernel)",
   "language": "python",
   "name": "python3"
  },
  "language_info": {
   "codemirror_mode": {
    "name": "ipython",
    "version": 3
   },
   "file_extension": ".py",
   "mimetype": "text/x-python",
   "name": "python",
   "nbconvert_exporter": "python",
   "pygments_lexer": "ipython3",
   "version": "3.9.18"
  }
 },
 "nbformat": 4,
 "nbformat_minor": 5
}
